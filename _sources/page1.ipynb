{
 "cells": [
  {
   "cell_type": "markdown",
   "metadata": {},
   "source": [
    "# judul\n",
    "\n",
    "[video](https://danibe045.github.io/latihan/page1.html)\n",
    "\n",
    "https://danibe045.github.io/latihan/page1.html"
   ]
  }
 ],
 "metadata": {
  "language_info": {
   "name": "python"
  }
 },
 "nbformat": 4,
 "nbformat_minor": 2
}
